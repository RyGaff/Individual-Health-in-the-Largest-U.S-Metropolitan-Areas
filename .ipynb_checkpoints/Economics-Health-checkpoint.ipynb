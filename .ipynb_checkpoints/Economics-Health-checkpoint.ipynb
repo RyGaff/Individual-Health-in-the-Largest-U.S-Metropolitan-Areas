{
 "cells": [
  {
   "cell_type": "code",
   "execution_count": null,
   "metadata": {},
   "outputs": [],
   "source": [
    "from census import Census\n",
    "from us import states\n",
    "import os \n",
    "\n",
    "# Get Api key from user env\n",
    "c_apikey = os.environ.get(\"CENSUS_APIKEY\")\n",
    "\n",
    "if c_apikey:\n",
    "    c = Census(c_apikey)\n",
    "else:\n",
    "    print(\"User did not set CENSUS_APIKEY in their environment\")"
   ]
  }
 ],
 "metadata": {
  "kernelspec": {
   "display_name": "ml",
   "language": "python",
   "name": "ml"
  },
  "language_info": {
   "codemirror_mode": {
    "name": "ipython",
    "version": 3
   },
   "file_extension": ".py",
   "mimetype": "text/x-python",
   "name": "python",
   "nbconvert_exporter": "python",
   "pygments_lexer": "ipython3",
   "version": "3.11.9"
  }
 },
 "nbformat": 4,
 "nbformat_minor": 4
}
