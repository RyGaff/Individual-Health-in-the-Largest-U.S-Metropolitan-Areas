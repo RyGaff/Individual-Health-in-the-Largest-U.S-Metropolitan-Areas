{
 "cells": [
  {
   "cell_type": "code",
   "execution_count": null,
   "metadata": {},
   "outputs": [
    {
     "ename": "",
     "evalue": "",
     "output_type": "error",
     "traceback": [
      "\u001b[1;31mRunning cells with 'homework1 (Python 3.12.5)' requires the ipykernel package.\n",
      "\u001b[1;31mRun the following command to install 'ipykernel' into the Python environment. \n",
      "\u001b[1;31mCommand: '/Users/erinwienke/homework1/bin/python -m pip install ipykernel -U --force-reinstall'"
     ]
    }
   ],
   "source": [
    "from census import Census\n",
    "import os \n",
    "\n",
    "# Get Api key from user env\n",
    "c_apikey = os.environ.get(\"CENSUS_APIKEY\")\n",
    "\n",
    "if c_apikey:\n",
    "    c = Census(c_apikey)\n",
    "else:\n",
    "    print(\"User did not set CENSUS_APIKEY in their environment\")"
   ]
  },
  {
   "cell_type": "code",
   "execution_count": null,
   "metadata": {},
   "outputs": [],
   "source": [
    "#From each .csv file, only use the counties of interest\n",
    "\n",
    "#Counties to include: \n",
    "#Loudoun County, Virginia\n",
    "#Falls Church City, Virginia\n",
    "#Alexandria City, Virginia\n",
    "#Fairfax County, Virginia\n",
    "#District of Columbia\n",
    "#Fairfax City, Virginia\n",
    "#Montgomery County, Maryland\n",
    "#Prince William County, Virginia\n",
    "#Prince Georges County, Maryland\n",
    "#Arlington County, Virginia\n",
    "\n",
    "import pandas as pd\n",
    "\n",
    "# Define the list of DMV counties and cities\n",
    "dmv_areas = [\n",
    "    \"Loudoun County, Virginia\",\n",
    "    \"Falls Church City, Virginia\",\n",
    "    \"Alexandria City, Virginia\",\n",
    "    \"Fairfax County, Virginia\",\n",
    "    \"District of Columbia\",\n",
    "    \"Fairfax City, Virginia\",\n",
    "    \"Montgomery County, Maryland\",\n",
    "    \"Prince William County, Virginia\",\n",
    "    \"Prince Georges County, Maryland\",\n",
    "    \"Arlington County, Virginia\"\n",
    "]\n",
    "\n",
    "# Read the four input files\n",
    "file1 = \"colonoscopy.csv\" \n",
    "file2 = \"household_income.csv\"  \n",
    "file3 = \"SVI_index.csv\"  \n",
    "file4 = \"college_educated.csv\" \n",
    "file5 = \"pap_smear.csv\" \n",
    "\n",
    "# Load the datasets\n",
    "data1 = pd.read_csv(file1, header=None)\n",
    "data1.columns = [\"County\", \"FIPS\", \"Model-Based Percent(3)\", \"Lower 95% Confidence Interval\", \"Upper 95% Confidence Interval\"]\n",
    "\n",
    "data2 = pd.read_csv(file2)\n",
    "data2.columns = [\"County\", \"FIPS\", \"Rural-Urban Continuum\", \"Value (Dollars)\", \"Rank within US\"]\n",
    "\n",
    "data3 = pd.read_csv(file3)\n",
    "data3.columns = [\"County\", \"FIPS\", \"Rural-Urban Continuum\", \"Value (Index)\"]\n",
    "\n",
    "data4 = pd.read_csv(file4)\n",
    "data4.columns = [\"County\", \"FIPS\", \"Rural-Urban Continuum\", \"Value (Percent)\", \"People (Education: At Least Bachelor's Degree)\", \"Rank within US\"]\n",
    "\n",
    "data5 = pd.read_csv(file5, header=None)\n",
    "data1.columns = [\"County\", \"FIPS\", \"Model-Based Percent(3)\", \"Lower 95% Confidence Interval\", \"Upper 95% Confidence Interval\"]\n",
    "\n",
    "# Filter the data for DMV counties and cities\n",
    "filtered_data1 = data1[data1[\"County\"].isin(dmv_areas)]\n",
    "filtered_data2 = data2[data2[\"County\"].isin(dmv_areas)]\n",
    "filtered_data3 = data3[data3[\"County\"].isin(dmv_areas)]\n",
    "filtered_data4 = data4[data4[\"County\"].isin(dmv_areas)]\n",
    "filtered_data5 = data5[data5[\"County\"].isin(dmv_areas)]\n",
    "\n",
    "# Merge all four datasets on the 'County' column\n",
    "merged_data = pd.merge(filtered_data1, filtered_data2, on=\"County\", how=\"inner\")\n",
    "merged_data = pd.merge(merged_data, filtered_data3, on=\"County\", how=\"inner\")\n",
    "merged_data = pd.merge(merged_data, filtered_data4, on=\"County\", how=\"inner\")\n",
    "merged_data = pd.merge(merged_data, filtered_data5, on='County', how=\"inner\")\n",
    "\n",
    "# Save the merged data to a new CSV file\n",
    "output_file = \"merged_dmv_data.csv\"\n",
    "merged_data.to_csv(output_file, index=False)\n",
    "\n",
    "print(f\"Merged data saved to {output_file}\")\n",
    "\n"
   ]
  }
 ],
 "metadata": {
  "kernelspec": {
   "display_name": "homework1",
   "language": "python",
   "name": "python3"
  },
  "language_info": {
   "codemirror_mode": {
    "name": "ipython",
    "version": 3
   },
   "file_extension": ".py",
   "mimetype": "text/x-python",
   "name": "python",
   "nbconvert_exporter": "python",
   "pygments_lexer": "ipython3",
   "version": "3.12.5"
  }
 },
 "nbformat": 4,
 "nbformat_minor": 4
}
