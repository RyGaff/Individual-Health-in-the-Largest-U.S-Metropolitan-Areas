{
 "cells": [
  {
   "cell_type": "code",
   "execution_count": 2,
   "metadata": {},
   "outputs": [
    {
     "name": "stdout",
     "output_type": "stream",
     "text": [
      "User did not set CENSUS_APIKEY in their environment\n"
     ]
    }
   ],
   "source": [
    "from census import Census\n",
    "import os \n",
    "\n",
    "# Get Api key from user env\n",
    "c_apikey = os.environ.get(\"CENSUS_APIKEY\")\n",
    "\n",
    "if c_apikey:\n",
    "    c = Census(c_apikey)\n",
    "else:\n",
    "    print(\"User did not set CENSUS_APIKEY in their environment\")"
   ]
  },
  {
   "cell_type": "code",
   "execution_count": null,
   "metadata": {},
   "outputs": [],
   "source": []
  }
 ],
 "metadata": {
  "kernelspec": {
   "display_name": "ml",
   "language": "python",
   "name": "ml"
  },
  "language_info": {
   "codemirror_mode": {
    "name": "ipython",
    "version": 3
   },
   "file_extension": ".py",
   "mimetype": "text/x-python",
   "name": "python",
   "nbconvert_exporter": "python",
   "pygments_lexer": "ipython3",
   "version": "3.11.9"
  }
 },
 "nbformat": 4,
 "nbformat_minor": 4
}
